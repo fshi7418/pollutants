{
 "cells": [
  {
   "cell_type": "code",
   "execution_count": 36,
   "metadata": {},
   "outputs": [],
   "source": [
    "import pandas as pd\n",
    "import numpy as np\n",
    "import matplotlib.pyplot as plt\n",
    "from sklearn.linear_model import LinearRegression"
   ]
  },
  {
   "cell_type": "code",
   "execution_count": 13,
   "metadata": {},
   "outputs": [
    {
     "data": {
      "text/html": [
       "<div>\n",
       "<style scoped>\n",
       "    .dataframe tbody tr th:only-of-type {\n",
       "        vertical-align: middle;\n",
       "    }\n",
       "\n",
       "    .dataframe tbody tr th {\n",
       "        vertical-align: top;\n",
       "    }\n",
       "\n",
       "    .dataframe thead th {\n",
       "        text-align: right;\n",
       "    }\n",
       "</style>\n",
       "<table border=\"1\" class=\"dataframe\">\n",
       "  <thead>\n",
       "    <tr style=\"text-align: right;\">\n",
       "      <th></th>\n",
       "      <th>length</th>\n",
       "      <th>POP_PCB1</th>\n",
       "      <th>POP_PCB2</th>\n",
       "      <th>POP_PCB3</th>\n",
       "      <th>POP_PCB4</th>\n",
       "      <th>POP_PCB5</th>\n",
       "      <th>POP_PCB6</th>\n",
       "      <th>POP_PCB7</th>\n",
       "      <th>POP_PCB8</th>\n",
       "      <th>POP_PCB9</th>\n",
       "      <th>...</th>\n",
       "      <th>basophils_pct</th>\n",
       "      <th>neutrophils_pct</th>\n",
       "      <th>BMI</th>\n",
       "      <th>edu_cat</th>\n",
       "      <th>race_cat</th>\n",
       "      <th>male</th>\n",
       "      <th>ageyrs</th>\n",
       "      <th>yrssmoke</th>\n",
       "      <th>smokenow</th>\n",
       "      <th>ln_lbxcot</th>\n",
       "    </tr>\n",
       "  </thead>\n",
       "  <tbody>\n",
       "    <tr>\n",
       "      <th>0</th>\n",
       "      <td>1.158765</td>\n",
       "      <td>20000</td>\n",
       "      <td>7600</td>\n",
       "      <td>3700</td>\n",
       "      <td>14700.0</td>\n",
       "      <td>18900.0</td>\n",
       "      <td>5300</td>\n",
       "      <td>5500</td>\n",
       "      <td>5700</td>\n",
       "      <td>2000</td>\n",
       "      <td>...</td>\n",
       "      <td>6.2</td>\n",
       "      <td>0.6</td>\n",
       "      <td>27.50</td>\n",
       "      <td>2</td>\n",
       "      <td>4</td>\n",
       "      <td>1</td>\n",
       "      <td>41</td>\n",
       "      <td>0</td>\n",
       "      <td>0</td>\n",
       "      <td>-2.312635</td>\n",
       "    </tr>\n",
       "    <tr>\n",
       "      <th>1</th>\n",
       "      <td>0.901128</td>\n",
       "      <td>43900</td>\n",
       "      <td>14900</td>\n",
       "      <td>9700</td>\n",
       "      <td>32300.0</td>\n",
       "      <td>55500.0</td>\n",
       "      <td>13400</td>\n",
       "      <td>18700</td>\n",
       "      <td>12000</td>\n",
       "      <td>16200</td>\n",
       "      <td>...</td>\n",
       "      <td>3.2</td>\n",
       "      <td>0.5</td>\n",
       "      <td>27.46</td>\n",
       "      <td>3</td>\n",
       "      <td>4</td>\n",
       "      <td>0</td>\n",
       "      <td>77</td>\n",
       "      <td>0</td>\n",
       "      <td>0</td>\n",
       "      <td>-4.509860</td>\n",
       "    </tr>\n",
       "    <tr>\n",
       "      <th>2</th>\n",
       "      <td>1.275395</td>\n",
       "      <td>3300</td>\n",
       "      <td>3300</td>\n",
       "      <td>3300</td>\n",
       "      <td>3300.0</td>\n",
       "      <td>3300.0</td>\n",
       "      <td>3300</td>\n",
       "      <td>3300</td>\n",
       "      <td>3300</td>\n",
       "      <td>3300</td>\n",
       "      <td>...</td>\n",
       "      <td>1.6</td>\n",
       "      <td>0.9</td>\n",
       "      <td>36.13</td>\n",
       "      <td>1</td>\n",
       "      <td>2</td>\n",
       "      <td>0</td>\n",
       "      <td>22</td>\n",
       "      <td>0</td>\n",
       "      <td>0</td>\n",
       "      <td>-4.017384</td>\n",
       "    </tr>\n",
       "    <tr>\n",
       "      <th>3</th>\n",
       "      <td>0.936906</td>\n",
       "      <td>8500</td>\n",
       "      <td>4100</td>\n",
       "      <td>6000</td>\n",
       "      <td>11500.0</td>\n",
       "      <td>13500.0</td>\n",
       "      <td>6900</td>\n",
       "      <td>13500</td>\n",
       "      <td>4100</td>\n",
       "      <td>4100</td>\n",
       "      <td>...</td>\n",
       "      <td>1.7</td>\n",
       "      <td>0.2</td>\n",
       "      <td>21.79</td>\n",
       "      <td>4</td>\n",
       "      <td>4</td>\n",
       "      <td>0</td>\n",
       "      <td>27</td>\n",
       "      <td>0</td>\n",
       "      <td>0</td>\n",
       "      <td>-3.863233</td>\n",
       "    </tr>\n",
       "    <tr>\n",
       "      <th>4</th>\n",
       "      <td>0.702800</td>\n",
       "      <td>159000</td>\n",
       "      <td>60200</td>\n",
       "      <td>29800</td>\n",
       "      <td>170000.0</td>\n",
       "      <td>215000.0</td>\n",
       "      <td>79200</td>\n",
       "      <td>47400</td>\n",
       "      <td>41400</td>\n",
       "      <td>53900</td>\n",
       "      <td>...</td>\n",
       "      <td>3.0</td>\n",
       "      <td>0.8</td>\n",
       "      <td>31.46</td>\n",
       "      <td>2</td>\n",
       "      <td>4</td>\n",
       "      <td>1</td>\n",
       "      <td>78</td>\n",
       "      <td>0</td>\n",
       "      <td>0</td>\n",
       "      <td>-1.826351</td>\n",
       "    </tr>\n",
       "  </tbody>\n",
       "</table>\n",
       "<p>5 rows × 33 columns</p>\n",
       "</div>"
      ],
      "text/plain": [
       "     length  POP_PCB1  POP_PCB2  POP_PCB3  POP_PCB4  POP_PCB5  POP_PCB6  \\\n",
       "0  1.158765     20000      7600      3700   14700.0   18900.0      5300   \n",
       "1  0.901128     43900     14900      9700   32300.0   55500.0     13400   \n",
       "2  1.275395      3300      3300      3300    3300.0    3300.0      3300   \n",
       "3  0.936906      8500      4100      6000   11500.0   13500.0      6900   \n",
       "4  0.702800    159000     60200     29800  170000.0  215000.0     79200   \n",
       "\n",
       "   POP_PCB7  POP_PCB8  POP_PCB9  ...  basophils_pct  neutrophils_pct    BMI  \\\n",
       "0      5500      5700      2000  ...            6.2              0.6  27.50   \n",
       "1     18700     12000     16200  ...            3.2              0.5  27.46   \n",
       "2      3300      3300      3300  ...            1.6              0.9  36.13   \n",
       "3     13500      4100      4100  ...            1.7              0.2  21.79   \n",
       "4     47400     41400     53900  ...            3.0              0.8  31.46   \n",
       "\n",
       "   edu_cat  race_cat  male  ageyrs  yrssmoke  smokenow  ln_lbxcot  \n",
       "0        2         4     1      41         0         0  -2.312635  \n",
       "1        3         4     0      77         0         0  -4.509860  \n",
       "2        1         2     0      22         0         0  -4.017384  \n",
       "3        4         4     0      27         0         0  -3.863233  \n",
       "4        2         4     1      78         0         0  -1.826351  \n",
       "\n",
       "[5 rows x 33 columns]"
      ]
     },
     "execution_count": 13,
     "metadata": {},
     "output_type": "execute_result"
    }
   ],
   "source": [
    "df = pd.read_csv('../pollutants.csv')\n",
    "df = df.drop(df.columns[[0]], axis=1)\n",
    "df.head(5)"
   ]
  },
  {
   "cell_type": "code",
   "execution_count": 24,
   "metadata": {},
   "outputs": [
    {
     "data": {
      "text/html": [
       "<div>\n",
       "<style scoped>\n",
       "    .dataframe tbody tr th:only-of-type {\n",
       "        vertical-align: middle;\n",
       "    }\n",
       "\n",
       "    .dataframe tbody tr th {\n",
       "        vertical-align: top;\n",
       "    }\n",
       "\n",
       "    .dataframe thead th {\n",
       "        text-align: right;\n",
       "    }\n",
       "</style>\n",
       "<table border=\"1\" class=\"dataframe\">\n",
       "  <thead>\n",
       "    <tr style=\"text-align: right;\">\n",
       "      <th></th>\n",
       "      <th>length</th>\n",
       "    </tr>\n",
       "  </thead>\n",
       "  <tbody>\n",
       "    <tr>\n",
       "      <th>0</th>\n",
       "      <td>1.158765</td>\n",
       "    </tr>\n",
       "    <tr>\n",
       "      <th>1</th>\n",
       "      <td>0.901128</td>\n",
       "    </tr>\n",
       "    <tr>\n",
       "      <th>2</th>\n",
       "      <td>1.275395</td>\n",
       "    </tr>\n",
       "    <tr>\n",
       "      <th>3</th>\n",
       "      <td>0.936906</td>\n",
       "    </tr>\n",
       "    <tr>\n",
       "      <th>4</th>\n",
       "      <td>0.702800</td>\n",
       "    </tr>\n",
       "  </tbody>\n",
       "</table>\n",
       "</div>"
      ],
      "text/plain": [
       "     length\n",
       "0  1.158765\n",
       "1  0.901128\n",
       "2  1.275395\n",
       "3  0.936906\n",
       "4  0.702800"
      ]
     },
     "execution_count": 24,
     "metadata": {},
     "output_type": "execute_result"
    }
   ],
   "source": [
    "target_col = df.columns[[0]]\n",
    "target = df[target_col]\n",
    "target.head(5)"
   ]
  },
  {
   "cell_type": "code",
   "execution_count": 25,
   "metadata": {},
   "outputs": [
    {
     "data": {
      "text/html": [
       "<div>\n",
       "<style scoped>\n",
       "    .dataframe tbody tr th:only-of-type {\n",
       "        vertical-align: middle;\n",
       "    }\n",
       "\n",
       "    .dataframe tbody tr th {\n",
       "        vertical-align: top;\n",
       "    }\n",
       "\n",
       "    .dataframe thead th {\n",
       "        text-align: right;\n",
       "    }\n",
       "</style>\n",
       "<table border=\"1\" class=\"dataframe\">\n",
       "  <thead>\n",
       "    <tr style=\"text-align: right;\">\n",
       "      <th></th>\n",
       "      <th>POP_PCB1</th>\n",
       "      <th>POP_PCB2</th>\n",
       "      <th>POP_PCB3</th>\n",
       "      <th>POP_PCB4</th>\n",
       "      <th>POP_PCB5</th>\n",
       "      <th>POP_PCB6</th>\n",
       "      <th>POP_PCB7</th>\n",
       "      <th>POP_PCB8</th>\n",
       "      <th>POP_PCB9</th>\n",
       "      <th>POP_PCB10</th>\n",
       "      <th>...</th>\n",
       "      <th>basophils_pct</th>\n",
       "      <th>neutrophils_pct</th>\n",
       "      <th>BMI</th>\n",
       "      <th>edu_cat</th>\n",
       "      <th>race_cat</th>\n",
       "      <th>male</th>\n",
       "      <th>ageyrs</th>\n",
       "      <th>yrssmoke</th>\n",
       "      <th>smokenow</th>\n",
       "      <th>ln_lbxcot</th>\n",
       "    </tr>\n",
       "  </thead>\n",
       "  <tbody>\n",
       "    <tr>\n",
       "      <th>0</th>\n",
       "      <td>20000</td>\n",
       "      <td>7600</td>\n",
       "      <td>3700</td>\n",
       "      <td>14700.0</td>\n",
       "      <td>18900.0</td>\n",
       "      <td>5300</td>\n",
       "      <td>5500</td>\n",
       "      <td>5700</td>\n",
       "      <td>2000</td>\n",
       "      <td>15.6</td>\n",
       "      <td>...</td>\n",
       "      <td>6.2</td>\n",
       "      <td>0.6</td>\n",
       "      <td>27.50</td>\n",
       "      <td>2</td>\n",
       "      <td>4</td>\n",
       "      <td>1</td>\n",
       "      <td>41</td>\n",
       "      <td>0</td>\n",
       "      <td>0</td>\n",
       "      <td>-2.312635</td>\n",
       "    </tr>\n",
       "    <tr>\n",
       "      <th>1</th>\n",
       "      <td>43900</td>\n",
       "      <td>14900</td>\n",
       "      <td>9700</td>\n",
       "      <td>32300.0</td>\n",
       "      <td>55500.0</td>\n",
       "      <td>13400</td>\n",
       "      <td>18700</td>\n",
       "      <td>12000</td>\n",
       "      <td>16200</td>\n",
       "      <td>35.4</td>\n",
       "      <td>...</td>\n",
       "      <td>3.2</td>\n",
       "      <td>0.5</td>\n",
       "      <td>27.46</td>\n",
       "      <td>3</td>\n",
       "      <td>4</td>\n",
       "      <td>0</td>\n",
       "      <td>77</td>\n",
       "      <td>0</td>\n",
       "      <td>0</td>\n",
       "      <td>-4.509860</td>\n",
       "    </tr>\n",
       "    <tr>\n",
       "      <th>2</th>\n",
       "      <td>3300</td>\n",
       "      <td>3300</td>\n",
       "      <td>3300</td>\n",
       "      <td>3300.0</td>\n",
       "      <td>3300.0</td>\n",
       "      <td>3300</td>\n",
       "      <td>3300</td>\n",
       "      <td>3300</td>\n",
       "      <td>3300</td>\n",
       "      <td>1.8</td>\n",
       "      <td>...</td>\n",
       "      <td>1.6</td>\n",
       "      <td>0.9</td>\n",
       "      <td>36.13</td>\n",
       "      <td>1</td>\n",
       "      <td>2</td>\n",
       "      <td>0</td>\n",
       "      <td>22</td>\n",
       "      <td>0</td>\n",
       "      <td>0</td>\n",
       "      <td>-4.017384</td>\n",
       "    </tr>\n",
       "    <tr>\n",
       "      <th>3</th>\n",
       "      <td>8500</td>\n",
       "      <td>4100</td>\n",
       "      <td>6000</td>\n",
       "      <td>11500.0</td>\n",
       "      <td>13500.0</td>\n",
       "      <td>6900</td>\n",
       "      <td>13500</td>\n",
       "      <td>4100</td>\n",
       "      <td>4100</td>\n",
       "      <td>4.5</td>\n",
       "      <td>...</td>\n",
       "      <td>1.7</td>\n",
       "      <td>0.2</td>\n",
       "      <td>21.79</td>\n",
       "      <td>4</td>\n",
       "      <td>4</td>\n",
       "      <td>0</td>\n",
       "      <td>27</td>\n",
       "      <td>0</td>\n",
       "      <td>0</td>\n",
       "      <td>-3.863233</td>\n",
       "    </tr>\n",
       "    <tr>\n",
       "      <th>4</th>\n",
       "      <td>159000</td>\n",
       "      <td>60200</td>\n",
       "      <td>29800</td>\n",
       "      <td>170000.0</td>\n",
       "      <td>215000.0</td>\n",
       "      <td>79200</td>\n",
       "      <td>47400</td>\n",
       "      <td>41400</td>\n",
       "      <td>53900</td>\n",
       "      <td>59.2</td>\n",
       "      <td>...</td>\n",
       "      <td>3.0</td>\n",
       "      <td>0.8</td>\n",
       "      <td>31.46</td>\n",
       "      <td>2</td>\n",
       "      <td>4</td>\n",
       "      <td>1</td>\n",
       "      <td>78</td>\n",
       "      <td>0</td>\n",
       "      <td>0</td>\n",
       "      <td>-1.826351</td>\n",
       "    </tr>\n",
       "  </tbody>\n",
       "</table>\n",
       "<p>5 rows × 32 columns</p>\n",
       "</div>"
      ],
      "text/plain": [
       "   POP_PCB1  POP_PCB2  POP_PCB3  POP_PCB4  POP_PCB5  POP_PCB6  POP_PCB7  \\\n",
       "0     20000      7600      3700   14700.0   18900.0      5300      5500   \n",
       "1     43900     14900      9700   32300.0   55500.0     13400     18700   \n",
       "2      3300      3300      3300    3300.0    3300.0      3300      3300   \n",
       "3      8500      4100      6000   11500.0   13500.0      6900     13500   \n",
       "4    159000     60200     29800  170000.0  215000.0     79200     47400   \n",
       "\n",
       "   POP_PCB8  POP_PCB9  POP_PCB10  ...  basophils_pct  neutrophils_pct    BMI  \\\n",
       "0      5700      2000       15.6  ...            6.2              0.6  27.50   \n",
       "1     12000     16200       35.4  ...            3.2              0.5  27.46   \n",
       "2      3300      3300        1.8  ...            1.6              0.9  36.13   \n",
       "3      4100      4100        4.5  ...            1.7              0.2  21.79   \n",
       "4     41400     53900       59.2  ...            3.0              0.8  31.46   \n",
       "\n",
       "   edu_cat  race_cat  male  ageyrs  yrssmoke  smokenow  ln_lbxcot  \n",
       "0        2         4     1      41         0         0  -2.312635  \n",
       "1        3         4     0      77         0         0  -4.509860  \n",
       "2        1         2     0      22         0         0  -4.017384  \n",
       "3        4         4     0      27         0         0  -3.863233  \n",
       "4        2         4     1      78         0         0  -1.826351  \n",
       "\n",
       "[5 rows x 32 columns]"
      ]
     },
     "execution_count": 25,
     "metadata": {},
     "output_type": "execute_result"
    }
   ],
   "source": [
    "predictor_cols = df.columns[list(range(1,df.shape[1]))]\n",
    "predictors = df[predictor_cols]\n",
    "predictors.head(5)"
   ]
  },
  {
   "cell_type": "markdown",
   "metadata": {},
   "source": [
    "## Exploring Age"
   ]
  },
  {
   "cell_type": "code",
   "execution_count": 30,
   "metadata": {},
   "outputs": [
    {
     "data": {
      "text/html": [
       "<div>\n",
       "<style scoped>\n",
       "    .dataframe tbody tr th:only-of-type {\n",
       "        vertical-align: middle;\n",
       "    }\n",
       "\n",
       "    .dataframe tbody tr th {\n",
       "        vertical-align: top;\n",
       "    }\n",
       "\n",
       "    .dataframe thead th {\n",
       "        text-align: right;\n",
       "    }\n",
       "</style>\n",
       "<table border=\"1\" class=\"dataframe\">\n",
       "  <thead>\n",
       "    <tr style=\"text-align: right;\">\n",
       "      <th></th>\n",
       "      <th>ageyrs</th>\n",
       "    </tr>\n",
       "  </thead>\n",
       "  <tbody>\n",
       "    <tr>\n",
       "      <th>0</th>\n",
       "      <td>41</td>\n",
       "    </tr>\n",
       "    <tr>\n",
       "      <th>1</th>\n",
       "      <td>77</td>\n",
       "    </tr>\n",
       "    <tr>\n",
       "      <th>2</th>\n",
       "      <td>22</td>\n",
       "    </tr>\n",
       "    <tr>\n",
       "      <th>3</th>\n",
       "      <td>27</td>\n",
       "    </tr>\n",
       "    <tr>\n",
       "      <th>4</th>\n",
       "      <td>78</td>\n",
       "    </tr>\n",
       "  </tbody>\n",
       "</table>\n",
       "</div>"
      ],
      "text/plain": [
       "   ageyrs\n",
       "0      41\n",
       "1      77\n",
       "2      22\n",
       "3      27\n",
       "4      78"
      ]
     },
     "execution_count": 30,
     "metadata": {},
     "output_type": "execute_result"
    }
   ],
   "source": [
    "age_data = df[['ageyrs']]\n",
    "age_data.head(5)"
   ]
  },
  {
   "cell_type": "code",
   "execution_count": 44,
   "metadata": {},
   "outputs": [
    {
     "data": {
      "text/plain": [
       "Text(0.5, 1.0, 'age-vs-length')"
      ]
     },
     "execution_count": 44,
     "metadata": {},
     "output_type": "execute_result"
    },
    {
     "data": {
      "image/png": "[encoded data removed]",
      "text/plain": [
       "<Figure size 432x288 with 1 Axes>"
      ]
     },
     "metadata": {
      "needs_background": "light"
     },
     "output_type": "display_data"
    }
   ],
   "source": [
    "plt.scatter(age_data, target, s=1)\n",
    "plt.xlim((0, 100))\n",
    "plt.ylim((0, 2.5))\n",
    "plt.xlabel(\"age\")\n",
    "plt.ylabel(\"length\")\n",
    "plt.title(\"age-vs-length\")"
   ]
  },
  {
   "cell_type": "code",
   "execution_count": 42,
   "metadata": {},
   "outputs": [
    {
     "name": "stdout",
     "output_type": "stream",
     "text": [
      "Score: 0.19840273834987499\n",
      "Slope: -0.006099532568924627\n",
      "Intercept: 1.3492575355989027\n"
     ]
    }
   ],
   "source": [
    "reg = LinearRegression().fit(age_data, target)\n",
    "intercept = reg.intercept_[0]\n",
    "slope = reg.coef_[0][0]\n",
    "print(\"Score:\", reg.score(age_data, target))\n",
    "print(\"Slope:\", slope)\n",
    "print(\"Intercept:\", intercept)"
   ]
  },
  {
   "cell_type": "code",
   "execution_count": 51,
   "metadata": {},
   "outputs": [
    {
     "data": {
      "text/plain": [
       "<matplotlib.legend.Legend at 0x7fa2d87dca30>"
      ]
     },
     "execution_count": 51,
     "metadata": {},
     "output_type": "execute_result"
    },
    {
     "data": {
      "image/png": "[encoded data removed]",
      "text/plain": [
       "<Figure size 432x288 with 1 Axes>"
      ]
     },
     "metadata": {
      "needs_background": "light"
     },
     "output_type": "display_data"
    }
   ],
   "source": [
    "plt.scatter(age_data, target, s=1)\n",
    "plt.xlim((0, 100))\n",
    "plt.ylim((0, 2.5))\n",
    "plt.xlabel(\"age\")\n",
    "plt.ylabel(\"length\")\n",
    "plt.title(\"age-vs-length\")\n",
    "\n",
    "x = np.linspace(0, 100, 100)\n",
    "plt.plot(x, slope * x + intercept, ':r', label='best-fitting line')\n",
    "plt.legend()"
   ]
  },
  {
   "cell_type": "markdown",
   "metadata": {},
   "source": [
    "## Exploring Sex"
   ]
  },
  {
   "cell_type": "code",
   "execution_count": 52,
   "metadata": {},
   "outputs": [
    {
     "data": {
      "text/html": [
       "<div>\n",
       "<style scoped>\n",
       "    .dataframe tbody tr th:only-of-type {\n",
       "        vertical-align: middle;\n",
       "    }\n",
       "\n",
       "    .dataframe tbody tr th {\n",
       "        vertical-align: top;\n",
       "    }\n",
       "\n",
       "    .dataframe thead th {\n",
       "        text-align: right;\n",
       "    }\n",
       "</style>\n",
       "<table border=\"1\" class=\"dataframe\">\n",
       "  <thead>\n",
       "    <tr style=\"text-align: right;\">\n",
       "      <th></th>\n",
       "      <th>male</th>\n",
       "    </tr>\n",
       "  </thead>\n",
       "  <tbody>\n",
       "    <tr>\n",
       "      <th>0</th>\n",
       "      <td>1</td>\n",
       "    </tr>\n",
       "    <tr>\n",
       "      <th>1</th>\n",
       "      <td>0</td>\n",
       "    </tr>\n",
       "    <tr>\n",
       "      <th>2</th>\n",
       "      <td>0</td>\n",
       "    </tr>\n",
       "    <tr>\n",
       "      <th>3</th>\n",
       "      <td>0</td>\n",
       "    </tr>\n",
       "    <tr>\n",
       "      <th>4</th>\n",
       "      <td>1</td>\n",
       "    </tr>\n",
       "  </tbody>\n",
       "</table>\n",
       "</div>"
      ],
      "text/plain": [
       "   male\n",
       "0     1\n",
       "1     0\n",
       "2     0\n",
       "3     0\n",
       "4     1"
      ]
     },
     "execution_count": 52,
     "metadata": {},
     "output_type": "execute_result"
    }
   ],
   "source": [
    "sex_data = df[['male']]\n",
    "sex_data.head(5)"
   ]
  },
  {
   "cell_type": "code",
   "execution_count": 55,
   "metadata": {},
   "outputs": [
    {
     "data": {
      "text/plain": [
       "Text(0.5, 1.0, 'age-vs-length')"
      ]
     },
     "execution_count": 55,
     "metadata": {},
     "output_type": "execute_result"
    },
    {
     "data": {
      "image/png": "[encoded data removed]",
      "text/plain": [
       "<Figure size 432x288 with 1 Axes>"
      ]
     },
     "metadata": {
      "needs_background": "light"
     },
     "output_type": "display_data"
    }
   ],
   "source": [
    "plt.scatter(sex_data, target, s=1)\n",
    "plt.xlabel(\"male?\")\n",
    "plt.ylabel(\"length\")\n",
    "plt.title(\"sex-vs-length\")"
   ]
  },
  {
   "cell_type": "code",
   "execution_count": 82,
   "metadata": {},
   "outputs": [
    {
     "name": "stdout",
     "output_type": "stream",
     "text": [
      "male mean = 1.0233887284178182, female mean = 0.6113180036250995\n",
      "male median = 1.00156272913, female median = 1.042824070785\n"
     ]
    }
   ],
   "source": [
    "target_to_list = [x[0] for x in target.values.tolist()]\n",
    "sex_data_to_list = [x[0] for x in sex_data.values.tolist()]\n",
    "\n",
    "male_data = np.array([x for (x, y) in zip(target_to_list, sex_data_to_list) if y == 1])\n",
    "female_data = np.array([x for (x, y) in zip(target_to_list, sex_data_to_list) if y == 0])\n",
    "\n",
    "male_mean = np.mean(male_data)\n",
    "female_mean = np.mean(female_mean)\n",
    "\n",
    "male_median = np.median(np.array(male_data))\n",
    "female_median = np.median(np.array(female_data))\n",
    "\n",
    "print(f\"male mean = {male_mean}, female mean = {female_mean}\")\n",
    "print(f\"male median = {male_median}, female median = {female_median}\")"
   ]
  },
  {
   "cell_type": "code",
   "execution_count": 112,
   "metadata": {},
   "outputs": [
    {
     "data": {
      "text/plain": [
       "Text(0, 0.5, 'Frequency')"
      ]
     },
     "execution_count": 112,
     "metadata": {},
     "output_type": "execute_result"
    },
    {
     "data": {
      "image/png": "[encoded data removed]",
      "text/plain": [
       "<Figure size 432x288 with 2 Axes>"
      ]
     },
     "metadata": {
      "needs_background": "light"
     },
     "output_type": "display_data"
    }
   ],
   "source": [
    "fig, axes = plt.subplots(1, 2, sharex=True, sharey=True)\n",
    "axes[0].hist(male_data, bins=10)\n",
    "axes[1].hist(female_data, bins=10)\n",
    "axes[0].set_xlabel('Length')\n",
    "axes[1].set_xlabel('Length')\n",
    "axes[0].set_ylabel('Length')\n",
    "axes[1].set_ylabel('Length')\n",
    "plt.xlabel(\"Length\")\n",
    "plt.ylabel(\"Frequency\")"
   ]
  }
 ],
 "metadata": {
  "kernelspec": {
   "display_name": "Python 3",
   "language": "python",
   "name": "python3"
  },
  "language_info": {
   "codemirror_mode": {
    "name": "ipython",
    "version": 3
   },
   "file_extension": ".py",
   "mimetype": "text/x-python",
   "name": "python",
   "nbconvert_exporter": "python",
   "pygments_lexer": "ipython3",
   "version": "3.8.5"
  }
 },
 "nbformat": 4,
 "nbformat_minor": 4
}
